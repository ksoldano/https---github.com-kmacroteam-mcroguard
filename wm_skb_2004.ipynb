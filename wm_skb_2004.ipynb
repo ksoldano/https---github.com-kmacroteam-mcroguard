{
 "cells": [
  {
   "cell_type": "code",
   "execution_count": 6,
   "id": "b040edfc-7736-4001-b54f-b29cd6701aa7",
   "metadata": {},
   "outputs": [
    {
     "name": "stdout",
     "output_type": "stream",
     "text": [
      "<selenium.webdriver.remote.webelement.WebElement (session=\"2a73b86e448ef8bde7f075bfdf29de64\", element=\"f.81E80D8A059325E02EB9ED8BA25998AB.d.0CD147A73930C2B23704B44924146EDA.e.22\")>\n",
      "[<selenium.webdriver.remote.webelement.WebElement (session=\"2a73b86e448ef8bde7f075bfdf29de64\", element=\"f.81E80D8A059325E02EB9ED8BA25998AB.d.0CD147A73930C2B23704B44924146EDA.e.22\")>, <selenium.webdriver.remote.webelement.WebElement (session=\"2a73b86e448ef8bde7f075bfdf29de64\", element=\"f.81E80D8A059325E02EB9ED8BA25998AB.d.0CD147A73930C2B23704B44924146EDA.e.23\")>, <selenium.webdriver.remote.webelement.WebElement (session=\"2a73b86e448ef8bde7f075bfdf29de64\", element=\"f.81E80D8A059325E02EB9ED8BA25998AB.d.0CD147A73930C2B23704B44924146EDA.e.24\")>, <selenium.webdriver.remote.webelement.WebElement (session=\"2a73b86e448ef8bde7f075bfdf29de64\", element=\"f.81E80D8A059325E02EB9ED8BA25998AB.d.0CD147A73930C2B23704B44924146EDA.e.25\")>, <selenium.webdriver.remote.webelement.WebElement (session=\"2a73b86e448ef8bde7f075bfdf29de64\", element=\"f.81E80D8A059325E02EB9ED8BA25998AB.d.0CD147A73930C2B23704B44924146EDA.e.26\")>, <selenium.webdriver.remote.webelement.WebElement (session=\"2a73b86e448ef8bde7f075bfdf29de64\", element=\"f.81E80D8A059325E02EB9ED8BA25998AB.d.0CD147A73930C2B23704B44924146EDA.e.27\")>, <selenium.webdriver.remote.webelement.WebElement (session=\"2a73b86e448ef8bde7f075bfdf29de64\", element=\"f.81E80D8A059325E02EB9ED8BA25998AB.d.0CD147A73930C2B23704B44924146EDA.e.28\")>]\n",
      "<selenium.webdriver.remote.webelement.WebElement (session=\"2a73b86e448ef8bde7f075bfdf29de64\", element=\"f.81E80D8A059325E02EB9ED8BA25998AB.d.0CD147A73930C2B23704B44924146EDA.e.29\")>\n"
     ]
    },
    {
     "ename": "NoSuchElementException",
     "evalue": "Message: no such element: Unable to locate element: {\"method\":\"xpath\",\"selector\":\"//*[@id=\"22fa94ff-c042-4528-90e0-fc754e1e4996\"]\"}\n  (Session info: chrome=125.0.6422.77); For documentation on this error, please visit: https://www.selenium.dev/documentation/webdriver/troubleshooting/errors#no-such-element-exception\nStacktrace:\n\tGetHandleVerifier [0x00007FF7DCD21F22+60322]\n\t(No symbol) [0x00007FF7DCC9CE99]\n\t(No symbol) [0x00007FF7DCB57EBA]\n\t(No symbol) [0x00007FF7DCBA7676]\n\t(No symbol) [0x00007FF7DCBA773C]\n\t(No symbol) [0x00007FF7DCBEE967]\n\t(No symbol) [0x00007FF7DCBCC25F]\n\t(No symbol) [0x00007FF7DCBEBC80]\n\t(No symbol) [0x00007FF7DCBCBFC3]\n\t(No symbol) [0x00007FF7DCB99617]\n\t(No symbol) [0x00007FF7DCB9A211]\n\tGetHandleVerifier [0x00007FF7DD03946D+3301613]\n\tGetHandleVerifier [0x00007FF7DD083693+3605267]\n\tGetHandleVerifier [0x00007FF7DD079410+3563664]\n\tGetHandleVerifier [0x00007FF7DCDD42F6+790390]\n\t(No symbol) [0x00007FF7DCCA74DF]\n\t(No symbol) [0x00007FF7DCCA33D4]\n\t(No symbol) [0x00007FF7DCCA3562]\n\t(No symbol) [0x00007FF7DCC92F6F]\n\tBaseThreadInitThunk [0x00007FFEB47D7344+20]\n\tRtlUserThreadStart [0x00007FFEB53826B1+33]\n",
     "output_type": "error",
     "traceback": [
      "\u001b[1;31m---------------------------------------------------------------------------\u001b[0m",
      "\u001b[1;31mNoSuchElementException\u001b[0m                    Traceback (most recent call last)",
      "Cell \u001b[1;32mIn[6], line 59\u001b[0m\n\u001b[0;32m     56\u001b[0m     reserve_button\u001b[38;5;241m.\u001b[39mclick()\n\u001b[0;32m     58\u001b[0m     time\u001b[38;5;241m.\u001b[39msleep(\u001b[38;5;241m5\u001b[39m)\n\u001b[1;32m---> 59\u001b[0m     check_tree \u001b[38;5;241m=\u001b[39m \u001b[43mdriver\u001b[49m\u001b[38;5;241;43m.\u001b[39;49m\u001b[43mfind_element\u001b[49m\u001b[43m(\u001b[49m\u001b[43mBy\u001b[49m\u001b[38;5;241;43m.\u001b[39;49m\u001b[43mXPATH\u001b[49m\u001b[43m,\u001b[49m\u001b[43m \u001b[49m\u001b[38;5;124;43m'\u001b[39;49m\u001b[38;5;124;43m//*[@id=\u001b[39;49m\u001b[38;5;124;43m\"\u001b[39;49m\u001b[38;5;124;43m22fa94ff-c042-4528-90e0-fc754e1e4996\u001b[39;49m\u001b[38;5;124;43m\"\u001b[39;49m\u001b[38;5;124;43m]\u001b[39;49m\u001b[38;5;124;43m'\u001b[39;49m\u001b[43m)\u001b[49m\n\u001b[0;32m     60\u001b[0m     check_tree\u001b[38;5;241m.\u001b[39mclick()\n\u001b[0;32m     63\u001b[0m     \u001b[38;5;66;03m# 이후 필요한 추가 작업 수행\u001b[39;00m\n\u001b[0;32m     64\u001b[0m     \u001b[38;5;66;03m# 예: 결제 정보 입력 등\u001b[39;00m\n\u001b[0;32m     65\u001b[0m \n\u001b[0;32m     66\u001b[0m \u001b[38;5;28;01mfinally\u001b[39;00m:\n\u001b[0;32m     67\u001b[0m     \u001b[38;5;66;03m# 작업이 끝난 후 브라우저 닫기\u001b[39;00m\n",
      "File \u001b[1;32mc:\\Users\\soldano\\AppData\\Local\\Programs\\Python\\Python312\\Lib\\site-packages\\selenium\\webdriver\\remote\\webdriver.py:741\u001b[0m, in \u001b[0;36mWebDriver.find_element\u001b[1;34m(self, by, value)\u001b[0m\n\u001b[0;32m    738\u001b[0m     by \u001b[38;5;241m=\u001b[39m By\u001b[38;5;241m.\u001b[39mCSS_SELECTOR\n\u001b[0;32m    739\u001b[0m     value \u001b[38;5;241m=\u001b[39m \u001b[38;5;124mf\u001b[39m\u001b[38;5;124m'\u001b[39m\u001b[38;5;124m[name=\u001b[39m\u001b[38;5;124m\"\u001b[39m\u001b[38;5;132;01m{\u001b[39;00mvalue\u001b[38;5;132;01m}\u001b[39;00m\u001b[38;5;124m\"\u001b[39m\u001b[38;5;124m]\u001b[39m\u001b[38;5;124m'\u001b[39m\n\u001b[1;32m--> 741\u001b[0m \u001b[38;5;28;01mreturn\u001b[39;00m \u001b[38;5;28;43mself\u001b[39;49m\u001b[38;5;241;43m.\u001b[39;49m\u001b[43mexecute\u001b[49m\u001b[43m(\u001b[49m\u001b[43mCommand\u001b[49m\u001b[38;5;241;43m.\u001b[39;49m\u001b[43mFIND_ELEMENT\u001b[49m\u001b[43m,\u001b[49m\u001b[43m \u001b[49m\u001b[43m{\u001b[49m\u001b[38;5;124;43m\"\u001b[39;49m\u001b[38;5;124;43musing\u001b[39;49m\u001b[38;5;124;43m\"\u001b[39;49m\u001b[43m:\u001b[49m\u001b[43m \u001b[49m\u001b[43mby\u001b[49m\u001b[43m,\u001b[49m\u001b[43m \u001b[49m\u001b[38;5;124;43m\"\u001b[39;49m\u001b[38;5;124;43mvalue\u001b[39;49m\u001b[38;5;124;43m\"\u001b[39;49m\u001b[43m:\u001b[49m\u001b[43m \u001b[49m\u001b[43mvalue\u001b[49m\u001b[43m}\u001b[49m\u001b[43m)\u001b[49m[\u001b[38;5;124m\"\u001b[39m\u001b[38;5;124mvalue\u001b[39m\u001b[38;5;124m\"\u001b[39m]\n",
      "File \u001b[1;32mc:\\Users\\soldano\\AppData\\Local\\Programs\\Python\\Python312\\Lib\\site-packages\\selenium\\webdriver\\remote\\webdriver.py:347\u001b[0m, in \u001b[0;36mWebDriver.execute\u001b[1;34m(self, driver_command, params)\u001b[0m\n\u001b[0;32m    345\u001b[0m response \u001b[38;5;241m=\u001b[39m \u001b[38;5;28mself\u001b[39m\u001b[38;5;241m.\u001b[39mcommand_executor\u001b[38;5;241m.\u001b[39mexecute(driver_command, params)\n\u001b[0;32m    346\u001b[0m \u001b[38;5;28;01mif\u001b[39;00m response:\n\u001b[1;32m--> 347\u001b[0m     \u001b[38;5;28;43mself\u001b[39;49m\u001b[38;5;241;43m.\u001b[39;49m\u001b[43merror_handler\u001b[49m\u001b[38;5;241;43m.\u001b[39;49m\u001b[43mcheck_response\u001b[49m\u001b[43m(\u001b[49m\u001b[43mresponse\u001b[49m\u001b[43m)\u001b[49m\n\u001b[0;32m    348\u001b[0m     response[\u001b[38;5;124m\"\u001b[39m\u001b[38;5;124mvalue\u001b[39m\u001b[38;5;124m\"\u001b[39m] \u001b[38;5;241m=\u001b[39m \u001b[38;5;28mself\u001b[39m\u001b[38;5;241m.\u001b[39m_unwrap_value(response\u001b[38;5;241m.\u001b[39mget(\u001b[38;5;124m\"\u001b[39m\u001b[38;5;124mvalue\u001b[39m\u001b[38;5;124m\"\u001b[39m, \u001b[38;5;28;01mNone\u001b[39;00m))\n\u001b[0;32m    349\u001b[0m     \u001b[38;5;28;01mreturn\u001b[39;00m response\n",
      "File \u001b[1;32mc:\\Users\\soldano\\AppData\\Local\\Programs\\Python\\Python312\\Lib\\site-packages\\selenium\\webdriver\\remote\\errorhandler.py:229\u001b[0m, in \u001b[0;36mErrorHandler.check_response\u001b[1;34m(self, response)\u001b[0m\n\u001b[0;32m    227\u001b[0m         alert_text \u001b[38;5;241m=\u001b[39m value[\u001b[38;5;124m\"\u001b[39m\u001b[38;5;124malert\u001b[39m\u001b[38;5;124m\"\u001b[39m]\u001b[38;5;241m.\u001b[39mget(\u001b[38;5;124m\"\u001b[39m\u001b[38;5;124mtext\u001b[39m\u001b[38;5;124m\"\u001b[39m)\n\u001b[0;32m    228\u001b[0m     \u001b[38;5;28;01mraise\u001b[39;00m exception_class(message, screen, stacktrace, alert_text)  \u001b[38;5;66;03m# type: ignore[call-arg]  # mypy is not smart enough here\u001b[39;00m\n\u001b[1;32m--> 229\u001b[0m \u001b[38;5;28;01mraise\u001b[39;00m exception_class(message, screen, stacktrace)\n",
      "\u001b[1;31mNoSuchElementException\u001b[0m: Message: no such element: Unable to locate element: {\"method\":\"xpath\",\"selector\":\"//*[@id=\"22fa94ff-c042-4528-90e0-fc754e1e4996\"]\"}\n  (Session info: chrome=125.0.6422.77); For documentation on this error, please visit: https://www.selenium.dev/documentation/webdriver/troubleshooting/errors#no-such-element-exception\nStacktrace:\n\tGetHandleVerifier [0x00007FF7DCD21F22+60322]\n\t(No symbol) [0x00007FF7DCC9CE99]\n\t(No symbol) [0x00007FF7DCB57EBA]\n\t(No symbol) [0x00007FF7DCBA7676]\n\t(No symbol) [0x00007FF7DCBA773C]\n\t(No symbol) [0x00007FF7DCBEE967]\n\t(No symbol) [0x00007FF7DCBCC25F]\n\t(No symbol) [0x00007FF7DCBEBC80]\n\t(No symbol) [0x00007FF7DCBCBFC3]\n\t(No symbol) [0x00007FF7DCB99617]\n\t(No symbol) [0x00007FF7DCB9A211]\n\tGetHandleVerifier [0x00007FF7DD03946D+3301613]\n\tGetHandleVerifier [0x00007FF7DD083693+3605267]\n\tGetHandleVerifier [0x00007FF7DD079410+3563664]\n\tGetHandleVerifier [0x00007FF7DCDD42F6+790390]\n\t(No symbol) [0x00007FF7DCCA74DF]\n\t(No symbol) [0x00007FF7DCCA33D4]\n\t(No symbol) [0x00007FF7DCCA3562]\n\t(No symbol) [0x00007FF7DCC92F6F]\n\tBaseThreadInitThunk [0x00007FFEB47D7344+20]\n\tRtlUserThreadStart [0x00007FFEB53826B1+33]\n"
     ]
    }
   ],
   "source": [
    "from selenium import webdriver\n",
    "from selenium.webdriver.common.by import By\n",
    "from selenium.webdriver.common.keys import Keys\n",
    "from selenium.webdriver.support.ui import WebDriverWait\n",
    "from selenium.webdriver.support import expected_conditions as EC\n",
    "import time\n",
    "\n",
    "# 웹드라이버 경로 설정 (여기서는 Chrome 드라이버 사용)\n",
    "#driver_path = 'path/to/chromedriver'  # 실제 chromedriver의 경로로 변경\n",
    "#driver = webdriver.Chrome(driver_path)\n",
    "\n",
    "options = webdriver.ChromeOptions()\n",
    "options.add_argument(\"--ignore-certificate-errors\")\n",
    "driver = webdriver.Chrome(options=options)\n",
    "\n",
    "# 인터파크 티켓 페이지 열기\n",
    "driver.get(\"https://61.36.35.27:2443\")\n",
    "\n",
    "# 로그인 페이지로 이동\n",
    "login_url = \"https://61.36.35.27:2443/login\"\n",
    "driver.get(login_url)\n",
    "\n",
    "# 웹 페이지 로딩 대기\n",
    "wait = WebDriverWait(driver, 10)\n",
    "\n",
    "try:\n",
    "    # 로그인 폼 찾기 및 로그인\n",
    "    id_field = wait.until(EC.presence_of_element_located((By.CLASS_NAME, \"form-control\")))\n",
    "    pw_field = driver.find_elements(By.CLASS_NAME, \"form-control\")\n",
    "    print(id_field)\n",
    "    print(pw_field)\n",
    "\n",
    "    id_field.send_keys(\"admin1\")  # 실제 유저네임으로 변경\n",
    "    #pw_field.send_keys(\"1234\")  # 실제 패스워드로 변경\n",
    "    pw_field[1].send_keys(\"1234\")\n",
    "\n",
    "    #app-login > div > div > div.card-body.position-relative > form > div.row.mt-3 > div > button\n",
    "    login_button = driver.find_element(By.XPATH, '//*[@id=\"app-login\"]/div/div/div[2]/form/div[5]/div/button')\n",
    "    print(login_button)\n",
    "    \n",
    "    time.sleep(1)\n",
    "    login_button.click()\n",
    "\n",
    "    time.sleep(2)\n",
    "    \n",
    "    # 로그인 후 티켓 페이지로 이동\n",
    "    ticket_page_url = \"https://61.36.35.27:2443/assets/manage\"  # 실제 티켓팅 페이지 URL로 변경\n",
    "    driver.get(ticket_page_url)\n",
    "\n",
    "    # 티켓팅 작업 수행\n",
    "    # 티켓팅 페이지에서 원하는 좌석 선택 및 예매 버튼 클릭 등\n",
    "    # 이 부분은 각 페이지의 HTML 구조에 따라 다름\n",
    "\n",
    "    # 예: 예매 버튼 클릭\n",
    "    reserve_button = wait.until(EC.element_to_be_clickable((By.XPATH, '//*[@id=\"app\"]/div[1]/div/div/section[2]/div/div/div[3]/div/div[1]/div/div[2]/buttongroup/button[1]')))\n",
    "    reserve_button.click()\n",
    "    \n",
    "    time.sleep(5)\n",
    "    check_tree = driver.find_element(By.XPATH, '//*[@id=\"b3471817-d5d2-4743-b26a-031d958b9df6\"]')\n",
    "    check_tree.click()\n",
    "    \n",
    "    \n",
    "    #<button data-v-b5b372b8=\"\" data-v-55fb5450=\"\" class=\"btn btn btn-default btn-xs mt-1\" type=\"button\"><!----><i data-v-55fb5450=\"\" class=\"fas fa-undo-alt\"></i> 초기화 <!----></button>\n",
    "    \n",
    "\n",
    "    # 이후 필요한 추가 작업 수행\n",
    "    # 예: 결제 정보 입력 등\n",
    "\n",
    "finally:\n",
    "    # 작업이 끝난 후 브라우저 닫기\n",
    "    time.sleep(10)\n",
    "    #driver.quit()"
   ]
  },
  {
   "cell_type": "code",
   "execution_count": 2,
   "id": "2ca092f0-828c-4de7-80c6-9b94c6dee8b2",
   "metadata": {},
   "outputs": [
    {
     "name": "stdout",
     "output_type": "stream",
     "text": [
      "<selenium.webdriver.remote.webelement.WebElement (session=\"5568518cca026a9b0f4352b013db63b4\", element=\"f.351BF173EC7CEF5E04386B86F509FEC1.d.005B7CB9A9788C161134E6173251E9DB.e.22\")>\n",
      "[<selenium.webdriver.remote.webelement.WebElement (session=\"5568518cca026a9b0f4352b013db63b4\", element=\"f.351BF173EC7CEF5E04386B86F509FEC1.d.005B7CB9A9788C161134E6173251E9DB.e.22\")>, <selenium.webdriver.remote.webelement.WebElement (session=\"5568518cca026a9b0f4352b013db63b4\", element=\"f.351BF173EC7CEF5E04386B86F509FEC1.d.005B7CB9A9788C161134E6173251E9DB.e.23\")>, <selenium.webdriver.remote.webelement.WebElement (session=\"5568518cca026a9b0f4352b013db63b4\", element=\"f.351BF173EC7CEF5E04386B86F509FEC1.d.005B7CB9A9788C161134E6173251E9DB.e.24\")>, <selenium.webdriver.remote.webelement.WebElement (session=\"5568518cca026a9b0f4352b013db63b4\", element=\"f.351BF173EC7CEF5E04386B86F509FEC1.d.005B7CB9A9788C161134E6173251E9DB.e.25\")>, <selenium.webdriver.remote.webelement.WebElement (session=\"5568518cca026a9b0f4352b013db63b4\", element=\"f.351BF173EC7CEF5E04386B86F509FEC1.d.005B7CB9A9788C161134E6173251E9DB.e.26\")>, <selenium.webdriver.remote.webelement.WebElement (session=\"5568518cca026a9b0f4352b013db63b4\", element=\"f.351BF173EC7CEF5E04386B86F509FEC1.d.005B7CB9A9788C161134E6173251E9DB.e.27\")>, <selenium.webdriver.remote.webelement.WebElement (session=\"5568518cca026a9b0f4352b013db63b4\", element=\"f.351BF173EC7CEF5E04386B86F509FEC1.d.005B7CB9A9788C161134E6173251E9DB.e.28\")>]\n",
      "<selenium.webdriver.remote.webelement.WebElement (session=\"5568518cca026a9b0f4352b013db63b4\", element=\"f.351BF173EC7CEF5E04386B86F509FEC1.d.005B7CB9A9788C161134E6173251E9DB.e.29\")>\n"
     ]
    },
    {
     "ename": "KeyboardInterrupt",
     "evalue": "",
     "output_type": "error",
     "traceback": [
      "\u001b[1;31m---------------------------------------------------------------------------\u001b[0m",
      "\u001b[1;31mKeyboardInterrupt\u001b[0m                         Traceback (most recent call last)",
      "Cell \u001b[1;32mIn[2], line 55\u001b[0m\n\u001b[0;32m     48\u001b[0m     reserve_button\u001b[38;5;241m.\u001b[39mclick()\n\u001b[0;32m     50\u001b[0m     \u001b[38;5;66;03m# 이후 필요한 추가 작업 수행\u001b[39;00m\n\u001b[0;32m     51\u001b[0m     \u001b[38;5;66;03m# 예: 결제 정보 입력 등\u001b[39;00m\n\u001b[0;32m     52\u001b[0m \n\u001b[0;32m     53\u001b[0m \u001b[38;5;28;01mfinally\u001b[39;00m:\n\u001b[0;32m     54\u001b[0m     \u001b[38;5;66;03m# 작업이 끝난 후 브라우저 닫기\u001b[39;00m\n\u001b[1;32m---> 55\u001b[0m     \u001b[43mtime\u001b[49m\u001b[38;5;241;43m.\u001b[39;49m\u001b[43msleep\u001b[49m\u001b[43m(\u001b[49m\u001b[38;5;241;43m50\u001b[39;49m\u001b[43m)\u001b[49m\n\u001b[0;32m     56\u001b[0m     driver\u001b[38;5;241m.\u001b[39mquit()\n",
      "\u001b[1;31mKeyboardInterrupt\u001b[0m: "
     ]
    }
   ],
   "source": []
  },
  {
   "cell_type": "code",
   "execution_count": null,
   "id": "19673603-10eb-444f-ba6e-7c6b36f4c5b3",
   "metadata": {},
   "outputs": [],
   "source": []
  }
 ],
 "metadata": {
  "kernelspec": {
   "display_name": "Python 3 (ipykernel)",
   "language": "python",
   "name": "python3"
  },
  "language_info": {
   "codemirror_mode": {
    "name": "ipython",
    "version": 3
   },
   "file_extension": ".py",
   "mimetype": "text/x-python",
   "name": "python",
   "nbconvert_exporter": "python",
   "pygments_lexer": "ipython3",
   "version": "3.12.3"
  }
 },
 "nbformat": 4,
 "nbformat_minor": 5
}
