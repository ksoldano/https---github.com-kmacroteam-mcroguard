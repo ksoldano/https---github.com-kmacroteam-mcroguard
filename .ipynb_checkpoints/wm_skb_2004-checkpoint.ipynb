{
 "cells": [
  {
   "cell_type": "code",
   "execution_count": 25,
   "id": "b040edfc-7736-4001-b54f-b29cd6701aa7",
   "metadata": {},
   "outputs": [],
   "source": [
    "from selenium import webdriver\n",
    "from selenium.webdriver.common.by import By\n",
    "from selenium.webdriver.common.keys import Keys\n",
    "from selenium.webdriver.support.ui import WebDriverWait\n",
    "from selenium.webdriver.support import expected_conditions as EC\n",
    "import time"
   ]
  },
  {
   "cell_type": "code",
   "execution_count": null,
   "id": "2ca092f0-828c-4de7-80c6-9b94c6dee8b2",
   "metadata": {},
   "outputs": [
    {
     "name": "stdout",
     "output_type": "stream",
     "text": [
      "<selenium.webdriver.remote.webelement.WebElement (session=\"c00a0d104e2facbafc25e4008712caa3\", element=\"f.E6DFBF34A2B437279495C889C6F281D5.d.64FEE1B363AE46C65C1FD4EE40B48586.e.21\")>\n",
      "[<selenium.webdriver.remote.webelement.WebElement (session=\"c00a0d104e2facbafc25e4008712caa3\", element=\"f.E6DFBF34A2B437279495C889C6F281D5.d.64FEE1B363AE46C65C1FD4EE40B48586.e.21\")>, <selenium.webdriver.remote.webelement.WebElement (session=\"c00a0d104e2facbafc25e4008712caa3\", element=\"f.E6DFBF34A2B437279495C889C6F281D5.d.64FEE1B363AE46C65C1FD4EE40B48586.e.22\")>, <selenium.webdriver.remote.webelement.WebElement (session=\"c00a0d104e2facbafc25e4008712caa3\", element=\"f.E6DFBF34A2B437279495C889C6F281D5.d.64FEE1B363AE46C65C1FD4EE40B48586.e.23\")>, <selenium.webdriver.remote.webelement.WebElement (session=\"c00a0d104e2facbafc25e4008712caa3\", element=\"f.E6DFBF34A2B437279495C889C6F281D5.d.64FEE1B363AE46C65C1FD4EE40B48586.e.24\")>, <selenium.webdriver.remote.webelement.WebElement (session=\"c00a0d104e2facbafc25e4008712caa3\", element=\"f.E6DFBF34A2B437279495C889C6F281D5.d.64FEE1B363AE46C65C1FD4EE40B48586.e.25\")>, <selenium.webdriver.remote.webelement.WebElement (session=\"c00a0d104e2facbafc25e4008712caa3\", element=\"f.E6DFBF34A2B437279495C889C6F281D5.d.64FEE1B363AE46C65C1FD4EE40B48586.e.26\")>, <selenium.webdriver.remote.webelement.WebElement (session=\"c00a0d104e2facbafc25e4008712caa3\", element=\"f.E6DFBF34A2B437279495C889C6F281D5.d.64FEE1B363AE46C65C1FD4EE40B48586.e.27\")>]\n"
     ]
    }
   ],
   "source": [
    "# 웹드라이버 경로 설정 (여기서는 Chrome 드라이버 사용)\n",
    "#driver_path = 'path/to/chromedriver'  # 실제 chromedriver의 경로로 변경\n",
    "#driver = webdriver.Chrome(driver_path)\n",
    "\n",
    "options = webdriver.ChromeOptions()\n",
    "options.add_argument(\"--ignore-certificate-errors\")\n",
    "driver = webdriver.Chrome(options=options)\n",
    "\n",
    "# 인터파크 티켓 페이지 열기\n",
    "driver.get(\"https://61.36.35.27:2443\")\n",
    "\n",
    "# 로그인 페이지로 이동\n",
    "login_url = \"https://61.36.35.27:2443/login\"\n",
    "driver.get(login_url)\n",
    "\n",
    "# 웹 페이지 로딩 대기\n",
    "wait = WebDriverWait(driver, 10)\n",
    "\n",
    "try:\n",
    "    # 로그인 폼 찾기 및 로그인\n",
    "    id_field = wait.until(EC.presence_of_element_located((By.CLASS_NAME, \"form-control\")))\n",
    "    pw_field = driver.find_elements(By.CLASS_NAME, \"form-control\")\n",
    "    print(id_field)\n",
    "    print(pw_field)\n",
    "\n",
    "    id_field.send_keys(\"admin1\")  # 실제 유저네임으로 변경\n",
    "    #pw_field.send_keys(\"1234\")  # 실제 패스워드로 변경\n",
    "    pw_field[1].send_keys(\"1234\")\n",
    "\n",
    "    #app-login > div > div > div.card-body.position-relative > form > div.row.mt-3 > div > button\n",
    "    login_button = driver.find_element(By.XPATH, '//*[@id=\"app-login\"]/div/div/div[2]/form/div[5]/div/button')\n",
    "    print(login_button)\n",
    "    \n",
    "    login_button.click()\n",
    "\n",
    "    time.sleep(5)\n",
    "    \n",
    "    # 로그인 후 티켓 페이지로 이동\n",
    "    ticket_page_url = \"https://61.36.35.27:2443/assets/manage\"  # 실제 티켓팅 페이지 URL로 변경\n",
    "    driver.get(ticket_page_url)\n",
    "\n",
    "    # 티켓팅 작업 수행\n",
    "    # 티켓팅 페이지에서 원하는 좌석 선택 및 예매 버튼 클릭 등\n",
    "    # 이 부분은 각 페이지의 HTML 구조에 따라 다름\n",
    "\n",
    "    # 예: 예매 버튼 클릭\n",
    "    reserve_button = wait.until(EC.element_to_be_clickable((By.XPATH, '//*[@id=\"app\"]/div[1]/div/div/section[2]/div/div/div[3]/div/div[1]/div/div[2]/buttongroup/button[1]')))\n",
    "    reserve_button.click()\n",
    "\n",
    "    # 이후 필요한 추가 작업 수행\n",
    "    # 예: 결제 정보 입력 등\n",
    "\n",
    "finally:\n",
    "    # 작업이 끝난 후 브라우저 닫기\n",
    "    time.sleep(50)\n",
    "    driver.quit()"
   ]
  },
  {
   "cell_type": "code",
   "execution_count": null,
   "id": "19673603-10eb-444f-ba6e-7c6b36f4c5b3",
   "metadata": {},
   "outputs": [],
   "source": []
  }
 ],
 "metadata": {
  "kernelspec": {
   "display_name": "Python 3 (ipykernel)",
   "language": "python",
   "name": "python3"
  },
  "language_info": {
   "codemirror_mode": {
    "name": "ipython",
    "version": 3
   },
   "file_extension": ".py",
   "mimetype": "text/x-python",
   "name": "python",
   "nbconvert_exporter": "python",
   "pygments_lexer": "ipython3",
   "version": "3.12.3"
  }
 },
 "nbformat": 4,
 "nbformat_minor": 5
}
