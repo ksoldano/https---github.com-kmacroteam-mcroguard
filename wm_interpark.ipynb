{
 "cells": [
  {
   "cell_type": "code",
   "execution_count": 1,
   "id": "b040edfc-7736-4001-b54f-b29cd6701aa7",
   "metadata": {},
   "outputs": [],
   "source": [
    "from selenium import webdriver\n",
    "from selenium.webdriver.common.by import By\n",
    "from selenium.webdriver.common.keys import Keys\n",
    "from selenium.webdriver.support.ui import WebDriverWait\n",
    "from selenium.webdriver.support import expected_conditions as EC\n",
    "import time"
   ]
  },
  {
   "cell_type": "code",
   "execution_count": 2,
   "id": "2ca092f0-828c-4de7-80c6-9b94c6dee8b2",
   "metadata": {},
   "outputs": [
    {
     "ename": "InvalidArgumentException",
     "evalue": "Message: invalid argument\n  (Session info: chrome=124.0.6367.201)\nStacktrace:\n\tGetHandleVerifier [0x00007FF6DD491522+60802]\n\t(No symbol) [0x00007FF6DD40AC22]\n\t(No symbol) [0x00007FF6DD2C7B13]\n\t(No symbol) [0x00007FF6DD2B05E0]\n\t(No symbol) [0x00007FF6DD2AEC3D]\n\t(No symbol) [0x00007FF6DD2AF22C]\n\t(No symbol) [0x00007FF6DD2CA9F9]\n\t(No symbol) [0x00007FF6DD35AB7E]\n\t(No symbol) [0x00007FF6DD33AB7A]\n\t(No symbol) [0x00007FF6DD35A224]\n\t(No symbol) [0x00007FF6DD33A923]\n\t(No symbol) [0x00007FF6DD308FEC]\n\t(No symbol) [0x00007FF6DD309C21]\n\tGetHandleVerifier [0x00007FF6DD7941BD+3217949]\n\tGetHandleVerifier [0x00007FF6DD7D6157+3488183]\n\tGetHandleVerifier [0x00007FF6DD7CF0DF+3459391]\n\tGetHandleVerifier [0x00007FF6DD54B8E6+823622]\n\t(No symbol) [0x00007FF6DD415FBF]\n\t(No symbol) [0x00007FF6DD410EE4]\n\t(No symbol) [0x00007FF6DD411072]\n\t(No symbol) [0x00007FF6DD4018C4]\n\tBaseThreadInitThunk [0x00007FFEB47D7344+20]\n\tRtlUserThreadStart [0x00007FFEB53826B1+33]\n",
     "output_type": "error",
     "traceback": [
      "\u001b[1;31m---------------------------------------------------------------------------\u001b[0m",
      "\u001b[1;31mInvalidArgumentException\u001b[0m                  Traceback (most recent call last)",
      "Cell \u001b[1;32mIn[2], line 30\u001b[0m\n\u001b[0;32m     28\u001b[0m \u001b[38;5;66;03m# 로그인 후 티켓 페이지로 이동\u001b[39;00m\n\u001b[0;32m     29\u001b[0m ticket_page_url \u001b[38;5;241m=\u001b[39m \u001b[38;5;124m\"\u001b[39m\u001b[38;5;124m티켓팅_페이지_URL\u001b[39m\u001b[38;5;124m\"\u001b[39m  \u001b[38;5;66;03m# 실제 티켓팅 페이지 URL로 변경\u001b[39;00m\n\u001b[1;32m---> 30\u001b[0m \u001b[43mdriver\u001b[49m\u001b[38;5;241;43m.\u001b[39;49m\u001b[43mget\u001b[49m\u001b[43m(\u001b[49m\u001b[43mticket_page_url\u001b[49m\u001b[43m)\u001b[49m\n\u001b[0;32m     32\u001b[0m \u001b[38;5;66;03m# 티켓팅 작업 수행\u001b[39;00m\n\u001b[0;32m     33\u001b[0m \u001b[38;5;66;03m# 티켓팅 페이지에서 원하는 좌석 선택 및 예매 버튼 클릭 등\u001b[39;00m\n\u001b[0;32m     34\u001b[0m \u001b[38;5;66;03m# 이 부분은 각 페이지의 HTML 구조에 따라 다름\u001b[39;00m\n\u001b[0;32m     35\u001b[0m \n\u001b[0;32m     36\u001b[0m \u001b[38;5;66;03m# 예: 예매 버튼 클릭\u001b[39;00m\n\u001b[0;32m     37\u001b[0m reserve_button \u001b[38;5;241m=\u001b[39m wait\u001b[38;5;241m.\u001b[39muntil(EC\u001b[38;5;241m.\u001b[39melement_to_be_clickable((By\u001b[38;5;241m.\u001b[39mID, \u001b[38;5;124m\"\u001b[39m\u001b[38;5;124mreserveButtonId\u001b[39m\u001b[38;5;124m\"\u001b[39m)))\n",
      "File \u001b[1;32m~\\AppData\\Local\\Programs\\Python\\Python312\\Lib\\site-packages\\selenium\\webdriver\\remote\\webdriver.py:356\u001b[0m, in \u001b[0;36mWebDriver.get\u001b[1;34m(self, url)\u001b[0m\n\u001b[0;32m    354\u001b[0m \u001b[38;5;28;01mdef\u001b[39;00m \u001b[38;5;21mget\u001b[39m(\u001b[38;5;28mself\u001b[39m, url: \u001b[38;5;28mstr\u001b[39m) \u001b[38;5;241m-\u001b[39m\u001b[38;5;241m>\u001b[39m \u001b[38;5;28;01mNone\u001b[39;00m:\n\u001b[0;32m    355\u001b[0m \u001b[38;5;250m    \u001b[39m\u001b[38;5;124;03m\"\"\"Loads a web page in the current browser session.\"\"\"\u001b[39;00m\n\u001b[1;32m--> 356\u001b[0m     \u001b[38;5;28;43mself\u001b[39;49m\u001b[38;5;241;43m.\u001b[39;49m\u001b[43mexecute\u001b[49m\u001b[43m(\u001b[49m\u001b[43mCommand\u001b[49m\u001b[38;5;241;43m.\u001b[39;49m\u001b[43mGET\u001b[49m\u001b[43m,\u001b[49m\u001b[43m \u001b[49m\u001b[43m{\u001b[49m\u001b[38;5;124;43m\"\u001b[39;49m\u001b[38;5;124;43murl\u001b[39;49m\u001b[38;5;124;43m\"\u001b[39;49m\u001b[43m:\u001b[49m\u001b[43m \u001b[49m\u001b[43murl\u001b[49m\u001b[43m}\u001b[49m\u001b[43m)\u001b[49m\n",
      "File \u001b[1;32m~\\AppData\\Local\\Programs\\Python\\Python312\\Lib\\site-packages\\selenium\\webdriver\\remote\\webdriver.py:347\u001b[0m, in \u001b[0;36mWebDriver.execute\u001b[1;34m(self, driver_command, params)\u001b[0m\n\u001b[0;32m    345\u001b[0m response \u001b[38;5;241m=\u001b[39m \u001b[38;5;28mself\u001b[39m\u001b[38;5;241m.\u001b[39mcommand_executor\u001b[38;5;241m.\u001b[39mexecute(driver_command, params)\n\u001b[0;32m    346\u001b[0m \u001b[38;5;28;01mif\u001b[39;00m response:\n\u001b[1;32m--> 347\u001b[0m     \u001b[38;5;28;43mself\u001b[39;49m\u001b[38;5;241;43m.\u001b[39;49m\u001b[43merror_handler\u001b[49m\u001b[38;5;241;43m.\u001b[39;49m\u001b[43mcheck_response\u001b[49m\u001b[43m(\u001b[49m\u001b[43mresponse\u001b[49m\u001b[43m)\u001b[49m\n\u001b[0;32m    348\u001b[0m     response[\u001b[38;5;124m\"\u001b[39m\u001b[38;5;124mvalue\u001b[39m\u001b[38;5;124m\"\u001b[39m] \u001b[38;5;241m=\u001b[39m \u001b[38;5;28mself\u001b[39m\u001b[38;5;241m.\u001b[39m_unwrap_value(response\u001b[38;5;241m.\u001b[39mget(\u001b[38;5;124m\"\u001b[39m\u001b[38;5;124mvalue\u001b[39m\u001b[38;5;124m\"\u001b[39m, \u001b[38;5;28;01mNone\u001b[39;00m))\n\u001b[0;32m    349\u001b[0m     \u001b[38;5;28;01mreturn\u001b[39;00m response\n",
      "File \u001b[1;32m~\\AppData\\Local\\Programs\\Python\\Python312\\Lib\\site-packages\\selenium\\webdriver\\remote\\errorhandler.py:229\u001b[0m, in \u001b[0;36mErrorHandler.check_response\u001b[1;34m(self, response)\u001b[0m\n\u001b[0;32m    227\u001b[0m         alert_text \u001b[38;5;241m=\u001b[39m value[\u001b[38;5;124m\"\u001b[39m\u001b[38;5;124malert\u001b[39m\u001b[38;5;124m\"\u001b[39m]\u001b[38;5;241m.\u001b[39mget(\u001b[38;5;124m\"\u001b[39m\u001b[38;5;124mtext\u001b[39m\u001b[38;5;124m\"\u001b[39m)\n\u001b[0;32m    228\u001b[0m     \u001b[38;5;28;01mraise\u001b[39;00m exception_class(message, screen, stacktrace, alert_text)  \u001b[38;5;66;03m# type: ignore[call-arg]  # mypy is not smart enough here\u001b[39;00m\n\u001b[1;32m--> 229\u001b[0m \u001b[38;5;28;01mraise\u001b[39;00m exception_class(message, screen, stacktrace)\n",
      "\u001b[1;31mInvalidArgumentException\u001b[0m: Message: invalid argument\n  (Session info: chrome=124.0.6367.201)\nStacktrace:\n\tGetHandleVerifier [0x00007FF6DD491522+60802]\n\t(No symbol) [0x00007FF6DD40AC22]\n\t(No symbol) [0x00007FF6DD2C7B13]\n\t(No symbol) [0x00007FF6DD2B05E0]\n\t(No symbol) [0x00007FF6DD2AEC3D]\n\t(No symbol) [0x00007FF6DD2AF22C]\n\t(No symbol) [0x00007FF6DD2CA9F9]\n\t(No symbol) [0x00007FF6DD35AB7E]\n\t(No symbol) [0x00007FF6DD33AB7A]\n\t(No symbol) [0x00007FF6DD35A224]\n\t(No symbol) [0x00007FF6DD33A923]\n\t(No symbol) [0x00007FF6DD308FEC]\n\t(No symbol) [0x00007FF6DD309C21]\n\tGetHandleVerifier [0x00007FF6DD7941BD+3217949]\n\tGetHandleVerifier [0x00007FF6DD7D6157+3488183]\n\tGetHandleVerifier [0x00007FF6DD7CF0DF+3459391]\n\tGetHandleVerifier [0x00007FF6DD54B8E6+823622]\n\t(No symbol) [0x00007FF6DD415FBF]\n\t(No symbol) [0x00007FF6DD410EE4]\n\t(No symbol) [0x00007FF6DD411072]\n\t(No symbol) [0x00007FF6DD4018C4]\n\tBaseThreadInitThunk [0x00007FFEB47D7344+20]\n\tRtlUserThreadStart [0x00007FFEB53826B1+33]\n"
     ]
    }
   ],
   "source": [
    "# 웹드라이버 경로 설정 (여기서는 Chrome 드라이버 사용)\n",
    "#driver_path = 'path/to/chromedriver'  # 실제 chromedriver의 경로로 변경\n",
    "#driver = webdriver.Chrome(driver_path)\n",
    "\n",
    "options = webdriver.ChromeOptions()\n",
    "driver = webdriver.Chrome(options=options)\n",
    "\n",
    "# 인터파크 티켓 페이지 열기\n",
    "driver.get(\"http://ticket.interpark.com\")\n",
    "\n",
    "# 로그인 페이지로 이동\n",
    "login_url = \"https://accounts.interpark.com/login/form\"\n",
    "driver.get(login_url)\n",
    "\n",
    "# 웹 페이지 로딩 대기\n",
    "wait = WebDriverWait(driver, 10)\n",
    "\n",
    "try:\n",
    "    # 로그인 폼 찾기 및 로그인\n",
    "    id_field = wait.until(EC.presence_of_element_located((By.ID, \"userId\")))\n",
    "    pw_field = driver.find_element(By.ID, \"userPwd\")\n",
    "    login_button = driver.find_element(By.ID, \"btn_login\")\n",
    "\n",
    "    id_field.send_keys(\"soldano\")  # 실제 유저네임으로 변경\n",
    "    pw_field.send_keys(\"your_password\")  # 실제 패스워드로 변경\n",
    "    login_button.click()\n",
    "\n",
    "    # 로그인 후 티켓 페이지로 이동\n",
    "    ticket_page_url = \"티켓팅_페이지_URL\"  # 실제 티켓팅 페이지 URL로 변경\n",
    "    driver.get(ticket_page_url)\n",
    "\n",
    "    # 티켓팅 작업 수행\n",
    "    # 티켓팅 페이지에서 원하는 좌석 선택 및 예매 버튼 클릭 등\n",
    "    # 이 부분은 각 페이지의 HTML 구조에 따라 다름\n",
    "\n",
    "    # 예: 예매 버튼 클릭\n",
    "    reserve_button = wait.until(EC.element_to_be_clickable((By.ID, \"reserveButtonId\")))\n",
    "    reserve_button.click()\n",
    "\n",
    "    # 이후 필요한 추가 작업 수행\n",
    "    # 예: 결제 정보 입력 등\n",
    "\n",
    "finally:\n",
    "    # 작업이 끝난 후 브라우저 닫기\n",
    "    time.sleep(5)\n",
    "    driver.quit()"
   ]
  }
 ],
 "metadata": {
  "kernelspec": {
   "display_name": "Python 3 (ipykernel)",
   "language": "python",
   "name": "python3"
  },
  "language_info": {
   "codemirror_mode": {
    "name": "ipython",
    "version": 3
   },
   "file_extension": ".py",
   "mimetype": "text/x-python",
   "name": "python",
   "nbconvert_exporter": "python",
   "pygments_lexer": "ipython3",
   "version": "3.12.3"
  }
 },
 "nbformat": 4,
 "nbformat_minor": 5
}
